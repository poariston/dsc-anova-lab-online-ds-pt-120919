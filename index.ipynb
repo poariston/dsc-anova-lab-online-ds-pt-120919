{
 "cells": [
  {
   "cell_type": "markdown",
   "metadata": {},
   "source": [
    "# ANOVA  - Lab\n",
    "\n",
    "## Introduction\n",
    "\n",
    "In this lab, you'll get some brief practice generating an ANOVA table (AOV) and interpreting its output. You'll also perform some investigations to compare the method to the t-tests you previously employed to conduct hypothesis testing.\n",
    "\n",
    "## Objectives\n",
    "\n",
    "In this lab you will: \n",
    "\n",
    "- Use ANOVA for testing multiple pairwise comparisons \n",
    "- Interpret results of an ANOVA and compare them to a t-test"
   ]
  },
  {
   "cell_type": "markdown",
   "metadata": {},
   "source": [
    "## Load the data\n",
    "\n",
    "Start by loading in the data stored in the file `'ToothGrowth.csv'`: "
   ]
  },
  {
   "cell_type": "code",
   "execution_count": 2,
   "metadata": {},
   "outputs": [],
   "source": [
    "# Your code here\n",
    "import pandas as pd\n",
    "df= pd.read_csv('ToothGrowth.csv')"
   ]
  },
  {
   "cell_type": "code",
   "execution_count": 3,
   "metadata": {},
   "outputs": [
    {
     "data": {
      "text/html": [
       "<div>\n",
       "<style scoped>\n",
       "    .dataframe tbody tr th:only-of-type {\n",
       "        vertical-align: middle;\n",
       "    }\n",
       "\n",
       "    .dataframe tbody tr th {\n",
       "        vertical-align: top;\n",
       "    }\n",
       "\n",
       "    .dataframe thead th {\n",
       "        text-align: right;\n",
       "    }\n",
       "</style>\n",
       "<table border=\"1\" class=\"dataframe\">\n",
       "  <thead>\n",
       "    <tr style=\"text-align: right;\">\n",
       "      <th></th>\n",
       "      <th>len</th>\n",
       "      <th>supp</th>\n",
       "      <th>dose</th>\n",
       "    </tr>\n",
       "  </thead>\n",
       "  <tbody>\n",
       "    <tr>\n",
       "      <th>0</th>\n",
       "      <td>4.2</td>\n",
       "      <td>VC</td>\n",
       "      <td>0.5</td>\n",
       "    </tr>\n",
       "    <tr>\n",
       "      <th>1</th>\n",
       "      <td>11.5</td>\n",
       "      <td>VC</td>\n",
       "      <td>0.5</td>\n",
       "    </tr>\n",
       "    <tr>\n",
       "      <th>2</th>\n",
       "      <td>7.3</td>\n",
       "      <td>VC</td>\n",
       "      <td>0.5</td>\n",
       "    </tr>\n",
       "    <tr>\n",
       "      <th>3</th>\n",
       "      <td>5.8</td>\n",
       "      <td>VC</td>\n",
       "      <td>0.5</td>\n",
       "    </tr>\n",
       "    <tr>\n",
       "      <th>4</th>\n",
       "      <td>6.4</td>\n",
       "      <td>VC</td>\n",
       "      <td>0.5</td>\n",
       "    </tr>\n",
       "  </tbody>\n",
       "</table>\n",
       "</div>"
      ],
      "text/plain": [
       "    len supp  dose\n",
       "0   4.2   VC   0.5\n",
       "1  11.5   VC   0.5\n",
       "2   7.3   VC   0.5\n",
       "3   5.8   VC   0.5\n",
       "4   6.4   VC   0.5"
      ]
     },
     "execution_count": 3,
     "metadata": {},
     "output_type": "execute_result"
    }
   ],
   "source": [
    "df.head()\n"
   ]
  },
  {
   "cell_type": "markdown",
   "metadata": {},
   "source": [
    "## Generate the ANOVA table\n",
    "\n",
    "Now generate an ANOVA table in order to analyze the influence of the medication and dosage:  "
   ]
  },
  {
   "cell_type": "code",
   "execution_count": 4,
   "metadata": {},
   "outputs": [
    {
     "data": {
      "text/html": [
       "<div>\n",
       "<style scoped>\n",
       "    .dataframe tbody tr th:only-of-type {\n",
       "        vertical-align: middle;\n",
       "    }\n",
       "\n",
       "    .dataframe tbody tr th {\n",
       "        vertical-align: top;\n",
       "    }\n",
       "\n",
       "    .dataframe thead th {\n",
       "        text-align: right;\n",
       "    }\n",
       "</style>\n",
       "<table border=\"1\" class=\"dataframe\">\n",
       "  <thead>\n",
       "    <tr style=\"text-align: right;\">\n",
       "      <th></th>\n",
       "      <th>len</th>\n",
       "      <th>dose</th>\n",
       "    </tr>\n",
       "  </thead>\n",
       "  <tbody>\n",
       "    <tr>\n",
       "      <th>count</th>\n",
       "      <td>60.000000</td>\n",
       "      <td>60.000000</td>\n",
       "    </tr>\n",
       "    <tr>\n",
       "      <th>mean</th>\n",
       "      <td>18.813333</td>\n",
       "      <td>1.166667</td>\n",
       "    </tr>\n",
       "    <tr>\n",
       "      <th>std</th>\n",
       "      <td>7.649315</td>\n",
       "      <td>0.628872</td>\n",
       "    </tr>\n",
       "    <tr>\n",
       "      <th>min</th>\n",
       "      <td>4.200000</td>\n",
       "      <td>0.500000</td>\n",
       "    </tr>\n",
       "    <tr>\n",
       "      <th>25%</th>\n",
       "      <td>13.075000</td>\n",
       "      <td>0.500000</td>\n",
       "    </tr>\n",
       "    <tr>\n",
       "      <th>50%</th>\n",
       "      <td>19.250000</td>\n",
       "      <td>1.000000</td>\n",
       "    </tr>\n",
       "    <tr>\n",
       "      <th>75%</th>\n",
       "      <td>25.275000</td>\n",
       "      <td>2.000000</td>\n",
       "    </tr>\n",
       "    <tr>\n",
       "      <th>max</th>\n",
       "      <td>33.900000</td>\n",
       "      <td>2.000000</td>\n",
       "    </tr>\n",
       "  </tbody>\n",
       "</table>\n",
       "</div>"
      ],
      "text/plain": [
       "             len       dose\n",
       "count  60.000000  60.000000\n",
       "mean   18.813333   1.166667\n",
       "std     7.649315   0.628872\n",
       "min     4.200000   0.500000\n",
       "25%    13.075000   0.500000\n",
       "50%    19.250000   1.000000\n",
       "75%    25.275000   2.000000\n",
       "max    33.900000   2.000000"
      ]
     },
     "execution_count": 4,
     "metadata": {},
     "output_type": "execute_result"
    }
   ],
   "source": [
    "df.describe()"
   ]
  },
  {
   "cell_type": "code",
   "execution_count": 5,
   "metadata": {},
   "outputs": [
    {
     "data": {
      "text/plain": [
       "array(['VC', 'OJ'], dtype=object)"
      ]
     },
     "execution_count": 5,
     "metadata": {},
     "output_type": "execute_result"
    }
   ],
   "source": [
    "df['supp'].unique()"
   ]
  },
  {
   "cell_type": "code",
   "execution_count": 6,
   "metadata": {},
   "outputs": [
    {
     "data": {
      "text/plain": [
       "array([0.5, 1. , 2. ])"
      ]
     },
     "execution_count": 6,
     "metadata": {},
     "output_type": "execute_result"
    }
   ],
   "source": [
    "df['dose'].unique()"
   ]
  },
  {
   "cell_type": "code",
   "execution_count": 7,
   "metadata": {},
   "outputs": [
    {
     "data": {
      "text/plain": [
       "<Figure size 640x480 with 1 Axes>"
      ]
     },
     "metadata": {},
     "output_type": "display_data"
    }
   ],
   "source": [
    "import matplotlib.pyplot as plt\n",
    "df.plot()\n",
    "plt.show()"
   ]
  },
  {
   "cell_type": "code",
   "execution_count": 8,
   "metadata": {},
   "outputs": [
    {
     "data": {
      "text/html": [
       "<div>\n",
       "<style scoped>\n",
       "    .dataframe tbody tr th:only-of-type {\n",
       "        vertical-align: middle;\n",
       "    }\n",
       "\n",
       "    .dataframe tbody tr th {\n",
       "        vertical-align: top;\n",
       "    }\n",
       "\n",
       "    .dataframe thead th {\n",
       "        text-align: right;\n",
       "    }\n",
       "</style>\n",
       "<table border=\"1\" class=\"dataframe\">\n",
       "  <thead>\n",
       "    <tr style=\"text-align: right;\">\n",
       "      <th></th>\n",
       "      <th>len</th>\n",
       "      <th>supp</th>\n",
       "      <th>dose</th>\n",
       "    </tr>\n",
       "  </thead>\n",
       "  <tbody>\n",
       "    <tr>\n",
       "      <th>0</th>\n",
       "      <td>4.2</td>\n",
       "      <td>VC</td>\n",
       "      <td>0.5</td>\n",
       "    </tr>\n",
       "    <tr>\n",
       "      <th>1</th>\n",
       "      <td>11.5</td>\n",
       "      <td>VC</td>\n",
       "      <td>0.5</td>\n",
       "    </tr>\n",
       "  </tbody>\n",
       "</table>\n",
       "</div>"
      ],
      "text/plain": [
       "    len supp  dose\n",
       "0   4.2   VC   0.5\n",
       "1  11.5   VC   0.5"
      ]
     },
     "execution_count": 8,
     "metadata": {},
     "output_type": "execute_result"
    }
   ],
   "source": [
    "df.head(2)"
   ]
  },
  {
   "cell_type": "code",
   "execution_count": 31,
   "metadata": {},
   "outputs": [
    {
     "name": "stdout",
     "output_type": "stream",
     "text": [
      "      a     b      c\n",
      "0  1.00  2.00   3.00\n",
      "1  3.00  4.00   7.00\n",
      "2  5.00  6.00  11.01\n",
      "3  1.00  2.00   3.01\n",
      "4  3.00  4.01   7.00\n",
      "5  5.00  6.00  11.00\n",
      "6  1.01  2.00   3.00\n",
      "7  3.01  4.00   7.00\n",
      "8  5.00  6.01  11.00\n",
      "\n",
      " model- model- model- model- model- model- model- model- model\n",
      "                            OLS Regression Results                            \n",
      "==============================================================================\n",
      "Dep. Variable:                      c   R-squared:                       1.000\n",
      "Model:                            OLS   Adj. R-squared:                  1.000\n",
      "Method:                 Least Squares   F-statistic:                 5.184e+05\n",
      "Date:                Sun, 15 Mar 2020   Prob (F-statistic):           1.94e-16\n",
      "Time:                        16:38:08   Log-Likelihood:                 30.847\n",
      "No. Observations:                   9   AIC:                            -55.69\n",
      "Df Residuals:                       6   BIC:                            -55.10\n",
      "Df Model:                           2                                         \n",
      "Covariance Type:            nonrobust                                         \n",
      "==============================================================================\n",
      "                 coef    std err          t      P>|t|      [0.025      0.975]\n",
      "------------------------------------------------------------------------------\n",
      "Intercept     -0.0030      0.524     -0.006      0.996      -1.285       1.279\n",
      "a              0.9992      0.527      1.894      0.107      -0.291       2.290\n",
      "b              1.0008      0.527      1.900      0.106      -0.288       2.289\n",
      "==============================================================================\n",
      "Omnibus:                        1.496   Durbin-Watson:                   1.262\n",
      "Prob(Omnibus):                  0.473   Jarque-Bera (JB):                0.860\n",
      "Skew:                           0.413   Prob(JB):                        0.650\n",
      "Kurtosis:                       1.730   Cond. No.                     1.58e+03\n",
      "==============================================================================\n",
      "\n",
      "Warnings:\n",
      "[1] Standard Errors assume that the covariance matrix of the errors is correctly specified.\n",
      "[2] The condition number is large, 1.58e+03. This might indicate that there are\n",
      "strong multicollinearity or other numerical problems.\n",
      "\n",
      " ANOVA table- ANOVA table- ANOVA table- ANOVA table- ANOVA table- ANOVA table\n",
      "            sum_sq   df         F    PR(>F)\n",
      "a         0.000332  1.0  3.588388  0.107012\n",
      "b         0.000334  1.0  3.611588  0.106108\n",
      "Residual  0.000556  6.0       NaN       NaN\n"
     ]
    }
   ],
   "source": [
    "#draft , WIP\n",
    "# trying with a very simple example of linear relationship\n",
    "\n",
    "df2=pd.DataFrame([[1,2,3],[3,4,7],[5,6,11.01],[1,2,3.01],[3,4.01,7],[5,6,11],[1.01,2,3],[3.01,4,7],[5,6.01,11]])\n",
    "df2.columns = (['a','b','c'])\n",
    "print(df2)\n",
    "import statsmodels.api as sm\n",
    "from statsmodels.formula.api import ols\n",
    "\n",
    "formula2 = 'c ~ a + b' \n",
    "lm2 = ols(formula2,df2).fit()  # create a model from a formula and a data frame\n",
    "# OLS stands for Ordinary Least Square\n",
    "\n",
    "print('\\n','model- model- model- model- model- model- model- model- model')\n",
    "print(lm2.summary())\n",
    "\n",
    "table2= sm.stats.anova_lm(lm2,typ=2)\n",
    "print('\\n','ANOVA table- ANOVA table- ANOVA table- ANOVA table- ANOVA table- ANOVA table')\n",
    "print(table2)"
   ]
  },
  {
   "cell_type": "code",
   "execution_count": null,
   "metadata": {},
   "outputs": [],
   "source": []
  },
  {
   "cell_type": "code",
   "execution_count": 18,
   "metadata": {},
   "outputs": [
    {
     "name": "stdout",
     "output_type": "stream",
     "text": [
      "                            OLS Regression Results                            \n",
      "==============================================================================\n",
      "Dep. Variable:                    len   R-squared:                       0.762\n",
      "Model:                            OLS   Adj. R-squared:                  0.750\n",
      "Method:                 Least Squares   F-statistic:                     59.88\n",
      "Date:                Sat, 14 Mar 2020   Prob (F-statistic):           1.78e-17\n",
      "Time:                        17:59:02   Log-Likelihood:                -163.60\n",
      "No. Observations:                  60   AIC:                             335.2\n",
      "Df Residuals:                      56   BIC:                             343.6\n",
      "Df Model:                           3                                         \n",
      "Covariance Type:            nonrobust                                         \n",
      "==================================================================================\n",
      "                     coef    std err          t      P>|t|      [0.025      0.975]\n",
      "----------------------------------------------------------------------------------\n",
      "Intercept         12.4550      0.988     12.603      0.000      10.475      14.435\n",
      "C(supp)[T.VC]     -3.7000      0.988     -3.744      0.000      -5.680      -1.720\n",
      "C(dose)[T.1.0]     9.1300      1.210      7.543      0.000       6.705      11.555\n",
      "C(dose)[T.2.0]    15.4950      1.210     12.802      0.000      13.070      17.920\n",
      "==============================================================================\n",
      "Omnibus:                        3.615   Durbin-Watson:                   1.814\n",
      "Prob(Omnibus):                  0.164   Jarque-Bera (JB):                3.366\n",
      "Skew:                           0.575   Prob(JB):                        0.186\n",
      "Kurtosis:                       2.853   Cond. No.                         4.22\n",
      "==============================================================================\n",
      "\n",
      "Warnings:\n",
      "[1] Standard Errors assume that the covariance matrix of the errors is correctly specified.\n"
     ]
    }
   ],
   "source": [
    "# Your code here\n",
    "import statsmodels.api as sm\n",
    "from statsmodels.formula.api import ols\n",
    "\n",
    "formula = 'len ~ C(supp) + C(dose)' # 'supp' and 'dose' are categorical variables\n",
    "lm = ols(formula,df).fit()  # create a model from a formula and a data frame\n",
    "# OLS stands for Ordinary Least Square\n",
    "print(lm.summary())"
   ]
  },
  {
   "cell_type": "markdown",
   "metadata": {},
   "source": [
    "## Interpretation\n",
    "\n",
    "R-squared:  percentage of the variation in dependent variable that is explained by independent variables\n",
    "Adj. R-squared: R-squared adjusted for the number of variables in the regression\n",
    "\n",
    "Prob (F-statistic): null hypothesis = “all the regression coefficients are equal to zero”. \n",
    "                    Prob(F-statistics) = probability of null hypothesis being true.\n",
    "Log-Likelihood:\n",
    "AIC:   Akaike’s Information Criteria. A lower AIC implies a better model\n",
    "BIC:   Bayesian Information Criteria. Penalties are more severe than for AIC\n",
    "\n",
    "Prob(Omnibus): null hypothesis for OLS = errors are normally distributed = assumption of OLS\n",
    "                Prob(Omnibus) close to 1 = null hypothesis is true => Best Linear Unbiased Estimators (BLUE)\n",
    "                Here, null hypothesis is not true (0.164) => not BLUE\n",
    "                \n",
    "Prob(Jarque-Bera): in line with the Omnibus test. A large (?) value of JB test means the errors are not normally distributed                \n",
    "Durbin-Watson: tests another assumption of OLS: homoscedasticity i.e. variance of error terms is constant and does not depend\n",
    "                on the x-value. Value between 1 and 2 = good\n",
    "                \n"
   ]
  },
  {
   "cell_type": "code",
   "execution_count": 19,
   "metadata": {},
   "outputs": [
    {
     "name": "stdout",
     "output_type": "stream",
     "text": [
      "               sum_sq    df          F        PR(>F)\n",
      "C(supp)    205.350000   1.0  14.016638  4.292793e-04\n",
      "C(dose)   2426.434333   2.0  82.810935  1.871163e-17\n",
      "Residual   820.425000  56.0        NaN           NaN\n"
     ]
    }
   ],
   "source": [
    "table= sm.stats.anova_lm(lm,typ=2)\n",
    "print(table)"
   ]
  },
  {
   "cell_type": "markdown",
   "metadata": {},
   "source": [
    "## Interpret the output\n",
    "\n",
    "Make a brief comment regarding the statistics and the effect of supplement and dosage on tooth length: "
   ]
  },
  {
   "cell_type": "markdown",
   "metadata": {},
   "source": [
    "## interpretation\n",
    "For now, focus on the outermost columns. On the left, you can see our various groups (supp and dose)  and on the right, the probability that the factor is indeed influential. Values less than 0.05 (or whatever we set  𝛼  to) indicate rejection of the null hypothesis( H0= the tested variable is not influential). In this case, notice that both factors appear influential,"
   ]
  },
  {
   "cell_type": "code",
   "execution_count": null,
   "metadata": {},
   "outputs": [],
   "source": [
    "# Your comment here\n",
    "# Both dose and supplement type are impactful. At first glance, dosage seems to be the more impactful of the two."
   ]
  },
  {
   "cell_type": "markdown",
   "metadata": {},
   "source": [
    "## Compare to t-tests\n",
    "\n",
    "Now that you've had a chance to generate an ANOVA table, its interesting to compare the results to those from the t-tests you were working with earlier. With that, start by breaking the data into two samples: those given the OJ supplement, and those given the VC supplement. Afterward, you'll conduct a t-test to compare the tooth length of these two different samples: "
   ]
  },
  {
   "cell_type": "code",
   "execution_count": 34,
   "metadata": {},
   "outputs": [
    {
     "data": {
      "text/html": [
       "<div>\n",
       "<style scoped>\n",
       "    .dataframe tbody tr th:only-of-type {\n",
       "        vertical-align: middle;\n",
       "    }\n",
       "\n",
       "    .dataframe tbody tr th {\n",
       "        vertical-align: top;\n",
       "    }\n",
       "\n",
       "    .dataframe thead th {\n",
       "        text-align: right;\n",
       "    }\n",
       "</style>\n",
       "<table border=\"1\" class=\"dataframe\">\n",
       "  <thead>\n",
       "    <tr style=\"text-align: right;\">\n",
       "      <th></th>\n",
       "      <th>len</th>\n",
       "      <th>supp</th>\n",
       "      <th>dose</th>\n",
       "    </tr>\n",
       "  </thead>\n",
       "  <tbody>\n",
       "    <tr>\n",
       "      <th>0</th>\n",
       "      <td>4.2</td>\n",
       "      <td>VC</td>\n",
       "      <td>0.5</td>\n",
       "    </tr>\n",
       "    <tr>\n",
       "      <th>1</th>\n",
       "      <td>11.5</td>\n",
       "      <td>VC</td>\n",
       "      <td>0.5</td>\n",
       "    </tr>\n",
       "  </tbody>\n",
       "</table>\n",
       "</div>"
      ],
      "text/plain": [
       "    len supp  dose\n",
       "0   4.2   VC   0.5\n",
       "1  11.5   VC   0.5"
      ]
     },
     "execution_count": 34,
     "metadata": {},
     "output_type": "execute_result"
    }
   ],
   "source": [
    "df.head(2)"
   ]
  },
  {
   "cell_type": "code",
   "execution_count": 42,
   "metadata": {},
   "outputs": [
    {
     "name": "stdout",
     "output_type": "stream",
     "text": [
      "    len supp  dose\n",
      "0   4.2   VC   0.5\n",
      "1  11.5   VC   0.5\n",
      "2   7.3   VC   0.5      len supp  dose\n",
      "30  15.2   OJ   0.5\n",
      "31  21.5   OJ   0.5\n",
      "32  17.6   OJ   0.5\n",
      "(60, 3) (30, 3) (30, 3)\n"
     ]
    }
   ],
   "source": [
    "df_VC=df.loc[df['supp'] == 'VC']\n",
    "df_OJ=df.loc[df['supp'] == 'OJ']\n",
    "print(df_VC.head(3),df_OJ.head(3))\n",
    "print(df.shape,df_OJ.shape, df_VC.shape)\n"
   ]
  },
  {
   "cell_type": "markdown",
   "metadata": {},
   "source": [
    "Now run a t-test between these two groups and print the associated two-sided p-value: "
   ]
  },
  {
   "cell_type": "code",
   "execution_count": 98,
   "metadata": {},
   "outputs": [
    {
     "name": "stdout",
     "output_type": "stream",
     "text": [
      "[15.2, 21.5, 17.6, 9.7, 14.5, 10.0, 8.2, 9.4, 16.5, 9.7, 19.7, 23.3, 23.6, 26.4, 20.0, 25.2, 25.8, 21.2, 14.5, 27.3, 25.5, 26.4, 22.4, 24.5, 24.8, 30.9, 26.4, 27.3, 29.4, 23.0]\n",
      "[4.2, 11.5, 7.3, 5.8, 6.4, 10.0, 11.2, 11.2, 5.2, 7.0, 16.5, 16.5, 15.2, 17.3, 22.5, 17.3, 13.6, 14.5, 18.8, 15.5, 23.6, 18.5, 33.9, 25.5, 26.4, 32.5, 26.7, 21.5, 23.3, 29.5]\n",
      "20.663333333333334 43.6334367816092 16.96333333333333 16.96333333333333\n",
      "t_statistic:  1.91526826869527\n",
      "p_value : 0.06063450788093383\n",
      "t_critical (corresponding to significance level apha):  2.00379280436813\n",
      "auto_t_statistic : 1.91526826869527\n",
      "auto_p_value : 0.06063450788093387\n"
     ]
    }
   ],
   "source": [
    "# Calculate the 2-sided p-value for a t-test comparing the two supplement groups\n",
    "\n",
    "# Note: '2-sided' means '2-tailed'\n",
    "\n",
    "# 1.  H0: Null Hypothesis: the supplement does not influence len. i.e. mean of len is the same for df_OJ and df_VC.\n",
    "# 2.  significance level = alpha = 0.05\n",
    "# 3.  t-statistic\n",
    "\n",
    "import scipy.stats as stats\n",
    "import numpy as np\n",
    "\n",
    "sample_OJ=list(df_OJ['len'])\n",
    "print(sample_OJ)\n",
    "sample_VC =  list(df_VC['len'])\n",
    "print(sample_VC)\n",
    "mean_smpl_OJ=np.mean(sample_OJ)\n",
    "var_smpl_OJ=np.var(sample_OJ,ddof=1)\n",
    "mean_smpl_VC=np.mean(sample_VC)\n",
    "var_smpl_VC=np.var(sample_VC,ddof=1)\n",
    "print(mean_smpl_OJ,var_smpl_OJ,mean_smpl_VC,mean_smpl_VC)\n",
    "\n",
    "\n",
    "# variances of the 2 samples are diffferent => Need to prerform a Welch's test\n",
    "\n",
    "denom = np.sqrt((var_smpl_OJ/30) + (var_smpl_VC/30))\n",
    "t_statistic = np.abs(mean_smpl_OJ-mean_smpl_VC) / denom\n",
    "print('t_statistic: ', t_statistic)\n",
    "\n",
    "dof_numer=((var_smpl_OJ/30) + (var_smpl_VC/30))**2\n",
    "dof_denom = (var_smpl_OJ**2)/((30**2)*29) + (var_smpl_VC**2)/((30**2)*29)\n",
    "dof=dof_numer/dof_denom\n",
    "p_value= 2*(1- stats.t.cdf(t_statistic , df=dof))  # multilication by 2 because 2-tailed test\n",
    "print('p_value :',p_value)\n",
    "\n",
    "# 1-tailed test => alpha =5% means that the H0 rejection area is 2.5% on the high side + 2.5% on the low side\n",
    "t_critical =  stats.t.ppf(.975 , df=dof)\n",
    "print('t_critical (corresponding to significance level apha): ', t_critical)\n",
    "\n",
    "auto_t_statistic, auto_p_value = stats.ttest_ind(sample_OJ,sample_VC,equal_var=False)\n",
    "# equal_var\n",
    "# If True (default), perform a standard independent 2 sample test that assumes equal population variances\n",
    "# If False, perform Welch’s t-test, which does not assume equal population variance\n",
    "\n",
    "print('auto_t_statistic :',  auto_t_statistic)\n",
    "print('auto_p_value :', auto_p_value )\n",
    "\n"
   ]
  },
  {
   "cell_type": "code",
   "execution_count": null,
   "metadata": {},
   "outputs": [],
   "source": []
  },
  {
   "cell_type": "code",
   "execution_count": 99,
   "metadata": {},
   "outputs": [
    {
     "data": {
      "image/png": "[encoded data removed]",
      "text/plain": [
       "<Figure size 576x360 with 1 Axes>"
      ]
     },
     "metadata": {
      "needs_background": "light"
     },
     "output_type": "display_data"
    }
   ],
   "source": [
    "# Visualization\n",
    "\n",
    "\n",
    "plt.figure(figsize=(8,5))\n",
    "x=np.arange(-4,4,.1)\n",
    "y=stats.norm.pdf(x=x)\n",
    "plt.axvline(x=t_critical, label='+t_critical',color='r')\n",
    "plt.axvline(x=-t_critical, label='-t_critical',color='r')\n",
    "\n",
    "plt.axvline(x=t_statistic, label='t_statistic',color='black')\n",
    "\n",
    "plt.plot(x,y)\n",
    "plt.legend()\n",
    "plt.show();\n"
   ]
  },
  {
   "cell_type": "markdown",
   "metadata": {},
   "source": [
    "## interpretation\n",
    "t_statistic is too low. ie p-value .06 is above significance level .05. So, we cannot reject the Null Hypothesis\n",
    "So, the 2 samples come from the same distribution. THere is no statistically significant diffeence between the means of the OJ and VC samples\n",
    "!!!!!!!!!!!????????\n",
    "The ANOVA test concluded that supp (OC or VJ) was an impactful parameter. Contradiction?"
   ]
  },
  {
   "cell_type": "markdown",
   "metadata": {},
   "source": [
    "## A 2-Category ANOVA F-test is equivalent to a 2-tailed t-test!\n",
    "\n",
    "Now, recalculate an ANOVA F-test with only the supplement variable. An ANOVA F-test between two categories is the same as performing a 2-tailed t-test! So, the p-value in the table should be identical to your calculation above.\n",
    "\n",
    "> Note: there may be a small fractional difference (>0.001) between the two values due to a rounding error between implementations. "
   ]
  },
  {
   "cell_type": "code",
   "execution_count": 101,
   "metadata": {},
   "outputs": [
    {
     "name": "stdout",
     "output_type": "stream",
     "text": [
      "                            OLS Regression Results                            \n",
      "==============================================================================\n",
      "Dep. Variable:                    len   R-squared:                       0.059\n",
      "Model:                            OLS   Adj. R-squared:                  0.043\n",
      "Method:                 Least Squares   F-statistic:                     3.668\n",
      "Date:                Sun, 15 Mar 2020   Prob (F-statistic):             0.0604\n",
      "Time:                        18:28:26   Log-Likelihood:                -204.87\n",
      "No. Observations:                  60   AIC:                             413.7\n",
      "Df Residuals:                      58   BIC:                             417.9\n",
      "Df Model:                           1                                         \n",
      "Covariance Type:            nonrobust                                         \n",
      "=================================================================================\n",
      "                    coef    std err          t      P>|t|      [0.025      0.975]\n",
      "---------------------------------------------------------------------------------\n",
      "Intercept        20.6633      1.366     15.127      0.000      17.929      23.398\n",
      "C(supp)[T.VC]    -3.7000      1.932     -1.915      0.060      -7.567       0.167\n",
      "==============================================================================\n",
      "Omnibus:                        1.843   Durbin-Watson:                   0.614\n",
      "Prob(Omnibus):                  0.398   Jarque-Bera (JB):                1.252\n",
      "Skew:                           0.006   Prob(JB):                        0.535\n",
      "Kurtosis:                       2.292   Cond. No.                         2.62\n",
      "==============================================================================\n",
      "\n",
      "Warnings:\n",
      "[1] Standard Errors assume that the covariance matrix of the errors is correctly specified.\n",
      "               sum_sq    df         F    PR(>F)\n",
      "C(supp)    205.350000   1.0  3.668253  0.060393\n",
      "Residual  3246.859333  58.0       NaN       NaN\n"
     ]
    }
   ],
   "source": [
    "# Your code here; conduct an ANOVA F-test of the oj and vc supplement groups.\n",
    "# Compare the p-value to that of the t-test above. \n",
    "# They should match (there may be a tiny fractional difference due to rounding errors in varying implementations)\n",
    "formula= 'len ~ C(supp)'\n",
    "lm = ols(formula,df).fit()\n",
    "print(lm.summary())\n",
    "table= sm.stats.anova_lm(lm,typ=2)\n",
    "print(table)"
   ]
  },
  {
   "cell_type": "markdown",
   "metadata": {},
   "source": [
    "## Run multiple t-tests\n",
    "\n",
    "While the 2-category ANOVA test is identical to a 2-tailed t-test, performing multiple t-tests leads to the multiple comparisons problem. To investigate this, look at the various sample groups you could create from the 2 features: "
   ]
  },
  {
   "cell_type": "code",
   "execution_count": 7,
   "metadata": {},
   "outputs": [
    {
     "name": "stdout",
     "output_type": "stream",
     "text": [
      "('OJ', 0.5)\n",
      "('OJ', 1.0)\n",
      "('OJ', 2.0)\n",
      "('VC', 0.5)\n",
      "('VC', 1.0)\n",
      "('VC', 2.0)\n"
     ]
    }
   ],
   "source": [
    "for group in df.groupby(['supp', 'dose'])['len']:\n",
    "    group_name = group[0]\n",
    "    data = group[1]\n",
    "    print(group_name)"
   ]
  },
  {
   "cell_type": "markdown",
   "metadata": {},
   "source": [
    "While bad practice, examine the effects of calculating multiple t-tests with the various combinations of these. To do this, generate all combinations of the above groups. For each pairwise combination, calculate the p-value of a 2-sided t-test. Print the group combinations and their associated p-value for the two-sided t-test."
   ]
  },
  {
   "cell_type": "code",
   "execution_count": null,
   "metadata": {},
   "outputs": [],
   "source": [
    "# Your code here; reuse your t-test code above to calculate the p-value for a 2-sided t-test\n",
    "# for all combinations of the supplement-dose groups listed above. \n",
    "# (Since there isn't a control group, compare each group to every other group.)"
   ]
  },
  {
   "cell_type": "markdown",
   "metadata": {},
   "source": [
    "## Summary\n",
    "\n",
    "In this lesson, you implemented the ANOVA technique to generalize testing methods to multiple groups and factors."
   ]
  }
 ],
 "metadata": {
  "kernelspec": {
   "display_name": "Python 3",
   "language": "python",
   "name": "python3"
  },
  "language_info": {
   "codemirror_mode": {
    "name": "ipython",
    "version": 3
   },
   "file_extension": ".py",
   "mimetype": "text/x-python",
   "name": "python",
   "nbconvert_exporter": "python",
   "pygments_lexer": "ipython3",
   "version": "3.6.9"
  }
 },
 "nbformat": 4,
 "nbformat_minor": 2
}
